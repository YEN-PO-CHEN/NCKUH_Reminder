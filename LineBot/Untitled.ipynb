{
 "cells": [
  {
   "cell_type": "code",
   "execution_count": 1,
   "id": "e496741a",
   "metadata": {},
   "outputs": [],
   "source": [
    "import json"
   ]
  },
  {
   "cell_type": "code",
   "execution_count": 35,
   "id": "da68f339",
   "metadata": {},
   "outputs": [],
   "source": [
    "message = json.load(open('assets/search.json','r',encoding='utf-8'))"
   ]
  },
  {
   "cell_type": "code",
   "execution_count": 18,
   "id": "8e6a6e3d",
   "metadata": {},
   "outputs": [
    {
     "data": {
      "text/plain": [
       "{'type': 'text',\n",
       " 'text': '醫生名稱',\n",
       " 'size': 'lg',\n",
       " 'color': '#111111',\n",
       " 'align': 'end'}"
      ]
     },
     "execution_count": 18,
     "metadata": {},
     "output_type": "execute_result"
    }
   ],
   "source": [
    "message['body'][ 'contents'][2]['contents'][0]['contents'][1]['text'] = \"醫生名稱\"\n",
    "message['body'][ 'contents'][2]['contents'][1]['contents'][1]['text'] = \"家醫科\"\n",
    "message['body'][ 'contents'][2]['contents'][3]['contents'][1]['text'] = '111/01/21'\n",
    "message['body'][ 'contents'][2]['contents'][4]['contents'][1]['text'] = '09:30~10:30'\n",
    "message['body'][ 'contents'][2]['contents'][5]['contents'][1]['text'] =' 21'\n",
    "message['body'][ 'contents'][2]['contents'][6]['contents'][1]['text'] = '門診大樓 2 樓'\n",
    "message['body'][ 'contents'][2]['contents'][7]['contents'][1]['text'] = '眼科 2 5 6 室'\n",
    "message['body'][ 'contents'][2]['contents'][8]['contents'][1]['text'] = '請先至視光中心報到'"
   ]
  },
  {
   "cell_type": "code",
   "execution_count": 41,
   "id": "f8b8dfdc",
   "metadata": {},
   "outputs": [
    {
     "data": {
      "text/plain": [
       "[{'type': 'text',\n",
       "  'text': '下次回診時間',\n",
       "  'weight': 'bold',\n",
       "  'color': '#CD5C5C',\n",
       "  'size': 'sm'},\n",
       " {'type': 'text',\n",
       "  'text': '病患名稱',\n",
       "  'weight': 'bold',\n",
       "  'size': 'xxl',\n",
       "  'margin': 'md'},\n",
       " {'type': 'box',\n",
       "  'layout': 'vertical',\n",
       "  'margin': 'xxl',\n",
       "  'spacing': 'sm',\n",
       "  'contents': [{'type': 'box',\n",
       "    'layout': 'horizontal',\n",
       "    'margin': 'xxl',\n",
       "    'contents': [{'type': 'text',\n",
       "      'text': '醫生',\n",
       "      'size': 'lg',\n",
       "      'color': '#555555'},\n",
       "     {'type': 'text',\n",
       "      'text': '醫生名稱',\n",
       "      'size': 'lg',\n",
       "      'color': '#111111',\n",
       "      'align': 'end'}]},\n",
       "   {'type': 'box',\n",
       "    'layout': 'horizontal',\n",
       "    'contents': [{'type': 'text',\n",
       "      'text': '科別',\n",
       "      'size': 'lg',\n",
       "      'color': '#555555'},\n",
       "     {'type': 'text',\n",
       "      'text': '家醫科',\n",
       "      'size': 'lg',\n",
       "      'color': '#111111',\n",
       "      'align': 'end'}]},\n",
       "   {'type': 'separator', 'margin': 'md'},\n",
       "   {'type': 'box',\n",
       "    'layout': 'horizontal',\n",
       "    'contents': [{'type': 'text',\n",
       "      'text': '回診日期',\n",
       "      'size': 'md',\n",
       "      'color': '#555555'},\n",
       "     {'type': 'text',\n",
       "      'text': '111/01/21',\n",
       "      'size': 'md',\n",
       "      'color': '#111111',\n",
       "      'align': 'end'}]},\n",
       "   {'type': 'box',\n",
       "    'layout': 'horizontal',\n",
       "    'contents': [{'type': 'text',\n",
       "      'text': '建議報到時間',\n",
       "      'size': 'md',\n",
       "      'color': '#555555'},\n",
       "     {'type': 'text',\n",
       "      'text': '09:30~10:30',\n",
       "      'size': 'md',\n",
       "      'color': '#111111',\n",
       "      'align': 'end'}]},\n",
       "   {'type': 'box',\n",
       "    'layout': 'horizontal',\n",
       "    'contents': [{'type': 'text',\n",
       "      'text': '看診號',\n",
       "      'size': 'md',\n",
       "      'color': '#555555'},\n",
       "     {'type': 'text',\n",
       "      'text': '21',\n",
       "      'size': 'md',\n",
       "      'color': '#111111',\n",
       "      'align': 'end'}]},\n",
       "   {'type': 'box',\n",
       "    'layout': 'horizontal',\n",
       "    'contents': [{'type': 'text',\n",
       "      'text': '看診區(大樓)',\n",
       "      'size': 'md',\n",
       "      'color': '#555555'},\n",
       "     {'type': 'text',\n",
       "      'text': '門診大樓 2 樓',\n",
       "      'size': 'md',\n",
       "      'color': '#111111',\n",
       "      'align': 'end'}]},\n",
       "   {'type': 'box',\n",
       "    'layout': 'horizontal',\n",
       "    'contents': [{'type': 'text',\n",
       "      'text': '看診區(室)',\n",
       "      'size': 'md',\n",
       "      'color': '#555555'},\n",
       "     {'type': 'text',\n",
       "      'text': '眼科 2 5 6 室',\n",
       "      'size': 'md',\n",
       "      'color': '#111111',\n",
       "      'align': 'end'}]},\n",
       "   {'type': 'box',\n",
       "    'layout': 'horizontal',\n",
       "    'contents': [{'type': 'text',\n",
       "      'text': '備註',\n",
       "      'size': 'md',\n",
       "      'color': '#555555'},\n",
       "     {'type': 'text',\n",
       "      'text': '請先至視光中心報到',\n",
       "      'size': 'sm',\n",
       "      'color': '#111111',\n",
       "      'align': 'end'}]}]},\n",
       " {'type': 'separator', 'margin': 'xxl'},\n",
       " {'type': 'box',\n",
       "  'layout': 'horizontal',\n",
       "  'margin': 'md',\n",
       "  'contents': [{'type': 'text',\n",
       "    'text': 'NCKU Hospital 智慧型醫療 期末專題',\n",
       "    'size': 'xs',\n",
       "    'color': '#aaaaaa',\n",
       "    'flex': 0}]},\n",
       " {'type': 'button',\n",
       "  'action': {'type': 'message', 'label': '回到主畫面', 'text': '回到主畫面'},\n",
       "  'gravity': 'bottom',\n",
       "  'margin': 'xxl',\n",
       "  'style': 'primary',\n",
       "  'height': 'md',\n",
       "  'color': '#CD5C5C'}]"
      ]
     },
     "execution_count": 41,
     "metadata": {},
     "output_type": "execute_result"
    }
   ],
   "source": [
    "message['body'][ 'contents']"
   ]
  },
  {
   "cell_type": "code",
   "execution_count": null,
   "id": "94e0feb1",
   "metadata": {},
   "outputs": [],
   "source": []
  }
 ],
 "metadata": {
  "kernelspec": {
   "display_name": "Python 3 (ipykernel)",
   "language": "python",
   "name": "python3"
  },
  "language_info": {
   "codemirror_mode": {
    "name": "ipython",
    "version": 3
   },
   "file_extension": ".py",
   "mimetype": "text/x-python",
   "name": "python",
   "nbconvert_exporter": "python",
   "pygments_lexer": "ipython3",
   "version": "3.8.10"
  }
 },
 "nbformat": 4,
 "nbformat_minor": 5
}
